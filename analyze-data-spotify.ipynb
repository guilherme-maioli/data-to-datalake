{
 "cells": [
  {
   "cell_type": "code",
   "execution_count": 87,
   "metadata": {},
   "outputs": [],
   "source": [
    "from requests import post, get\n",
    "import base64"
   ]
  },
  {
   "cell_type": "code",
   "execution_count": 38,
   "metadata": {},
   "outputs": [],
   "source": [
    "client_id = \"your-client-id\"\n",
    "\n",
    "client_secret = \"your-client-secret\"\n",
    "\n",
    "url = \"https://accounts.spotify.com/api/token\"\n",
    "\n",
    "\n",
    "def get_token():\n",
    "    auth_string = client_id + \":\" + client_secret\n",
    "    auth_bytes = auth_string.encode(\"utf-8\")\n",
    "    auth_base64 = str(base64.b64encode(auth_bytes), \"utf-8\")\n",
    "\n",
    "    url = \"https://accounts.spotify.com/api/token\"\n",
    "    headers = {\n",
    "        \"Authorization\": \"Basic \" + auth_base64,\n",
    "    }\n",
    "\n",
    "    data = {\n",
    "            \"grant_type\": \"client_credentials\"\n",
    "            }\n",
    "\n",
    "    result = post(url, headers=headers, data=data)\n",
    "\n",
    "    return result.json()[\"access_token\"]\n",
    "\n"
   ]
  },
  {
   "cell_type": "code",
   "execution_count": 39,
   "metadata": {},
   "outputs": [],
   "source": [
    "def get_auth_header(token):\n",
    "    return {\"Authorization\": \"Bearer \" + token}"
   ]
  },
  {
   "cell_type": "code",
   "execution_count": 96,
   "metadata": {},
   "outputs": [],
   "source": [
    "def search_for_anything(token, artist_name, type):\n",
    "    url = \"https://api.spotify.com/v1/search\"\n",
    "    headers = get_auth_header(token)\n",
    "    query = f\"q={artist_name}&type={type}&limit=1\"\n",
    "\n",
    "    query_url = url + \"?\" + query \n",
    "    \n",
    "    result = get(query_url, headers=headers)\n",
    "    \n",
    "    return result.json()\n"
   ]
  },
  {
   "cell_type": "code",
   "execution_count": 77,
   "metadata": {},
   "outputs": [],
   "source": [
    "def list_playlist(token, playlist_id):\n",
    "    url = f'https://api.spotify.com/v1/playlists/{playlist_id}/tracks?fields=items%28added_at%2Ctrack%28name%2Crelease_date%2C+artists%28name%29%2C+duration_ms%29%29'\n",
    "    headers = get_auth_header(token)\n",
    "    \n",
    "    result = get(url, headers=headers)\n",
    "\n",
    "    return result.json()"
   ]
  },
  {
   "cell_type": "code",
   "execution_count": 71,
   "metadata": {},
   "outputs": [],
   "source": [
    "token = get_token()"
   ]
  },
  {
   "cell_type": "code",
   "execution_count": 79,
   "metadata": {},
   "outputs": [
    {
     "name": "stdout",
     "output_type": "stream",
     "text": [
      "{'playlists': {'href': 'https://api.spotify.com/v1/search?query=Radio+Birita&type=playlist&offset=0&limit=1', 'items': [{'collaborative': False, 'description': '', 'external_urls': {'spotify': 'https://open.spotify.com/playlist/16FFBX4MVut2qVV4SnTpZr'}, 'href': 'https://api.spotify.com/v1/playlists/16FFBX4MVut2qVV4SnTpZr', 'id': '16FFBX4MVut2qVV4SnTpZr', 'images': [{'height': None, 'url': 'https://image-cdn-ak.spotifycdn.com/image/ab67706c0000bebbe091b2369067df11f06d888b', 'width': None}], 'name': 'RÁDIO BIRITA', 'owner': {'display_name': 'Bárbara Lemos', 'external_urls': {'spotify': 'https://open.spotify.com/user/12160624005'}, 'href': 'https://api.spotify.com/v1/users/12160624005', 'id': '12160624005', 'type': 'user', 'uri': 'spotify:user:12160624005'}, 'primary_color': None, 'public': None, 'snapshot_id': 'MTc4MSw0Y2FkOTY5OTA4YTNlMjFmYzY0ZTVmMjIyNmY1NGJhM2RmODM5MGI3', 'tracks': {'href': 'https://api.spotify.com/v1/playlists/16FFBX4MVut2qVV4SnTpZr/tracks', 'total': 165}, 'type': 'playlist', 'uri': 'spotify:playlist:16FFBX4MVut2qVV4SnTpZr'}], 'limit': 1, 'next': 'https://api.spotify.com/v1/search?query=Radio+Birita&type=playlist&offset=1&limit=1', 'offset': 0, 'previous': None, 'total': 15}}\n",
      "{'items': [{'added_at': '2023-08-18T17:35:59Z', 'track': {'artists': [{'name': 'Ícaro e Gilmar'}, {'name': 'Hugo & Guilherme'}], 'duration_ms': 181131, 'name': 'Logo Logo - Ao Vivo'}}, {'added_at': '2023-08-18T17:21:57Z', 'track': {'artists': [{'name': 'Bruno & Rafa'}, {'name': 'Clayton & Romário'}], 'duration_ms': 179123, 'name': 'Guenta o Choro - Ao Vivo'}}, {'added_at': '2023-09-11T04:32:40Z', 'track': {'artists': [{'name': 'Gusttavo Lima'}, {'name': 'Ana Castela'}], 'duration_ms': 124511, 'name': 'Canudinho - Ao Vivo'}}, {'added_at': '2023-06-24T16:47:45Z', 'track': {'artists': [{'name': 'Humberto & Ronaldo'}], 'duration_ms': 161063, 'name': 'Eu Tenho Provas - Ao Vivo'}}, {'added_at': '2023-09-11T04:36:34Z', 'track': {'artists': [{'name': 'Fernando & Sorocaba'}, {'name': 'Luan Pereira'}, {'name': 'Dj Chris No Beat'}], 'duration_ms': 178090, 'name': 'A Galera Do Chapéu'}}, {'added_at': '2023-09-05T04:46:03Z', 'track': {'artists': [{'name': 'Hugo Henrique'}, {'name': 'Gustavo Mioto'}], 'duration_ms': 165660, 'name': 'Vão Falar Que Foi Sorte - Ao Vivo'}}, {'added_at': '2023-09-11T04:34:45Z', 'track': {'artists': [{'name': 'Zé Neto & Cristiano'}], 'duration_ms': 171712, 'name': 'Um Mês E Pouco - Ao Vivo'}}, {'added_at': '2023-08-29T17:12:34Z', 'track': {'artists': [{'name': 'Diego & Arnaldo'}, {'name': 'Ícaro e Gilmar'}], 'duration_ms': 152117, 'name': 'Ninguém Nasce Vagabundo - (Ao Vivo)'}}, {'added_at': '2023-09-11T05:04:56Z', 'track': {'artists': [{'name': 'Guilherme & Benuto'}, {'name': 'Wesley Safadão'}], 'duration_ms': 154698, 'name': 'Milionário - Ao Vivo'}}, {'added_at': '2023-08-10T01:21:55Z', 'track': {'artists': [{'name': 'Naiara Azevedo'}, {'name': 'Kadu Martins'}], 'duration_ms': 188565, 'name': 'Só Me Usou'}}, {'added_at': '2022-08-22T20:21:34Z', 'track': {'artists': [{'name': 'Bruno & Rafa'}], 'duration_ms': 170148, 'name': 'O Seu Erro - Ao Vivo'}}, {'added_at': '2023-07-21T22:25:51Z', 'track': {'artists': [{'name': 'Guilherme & Benuto'}], 'duration_ms': 161251, 'name': 'Ex Gaveta - Ao Vivo'}}, {'added_at': '2023-01-06T00:51:14Z', 'track': {'artists': [{'name': 'Hugo & Vitor'}, {'name': 'Clayton & Romário'}], 'duration_ms': 137957, 'name': 'Problemão - Ao Vivo'}}, {'added_at': '2023-08-11T15:14:10Z', 'track': {'artists': [{'name': 'Bruninho & Davi'}, {'name': 'Israel & Rodolffo'}], 'duration_ms': 178562, 'name': 'Certas Coisas'}}, {'added_at': '2023-07-17T00:42:48Z', 'track': {'artists': [{'name': 'Hugo & Guilherme'}], 'duration_ms': 155767, 'name': 'Elevador - Ao Vivo'}}, {'added_at': '2023-09-07T20:38:22Z', 'track': {'artists': [{'name': 'Felipe Araújo'}, {'name': 'Israel & Rodolffo'}], 'duration_ms': 146087, 'name': 'Cê Não Merece Eu - Ao Vivo'}}, {'added_at': '2023-07-24T15:20:36Z', 'track': {'artists': [{'name': 'João Lucas & Diogo'}, {'name': 'Fred & Fabrício'}], 'duration_ms': 281958, 'name': 'Só Pensando Em Você / Confidências - Ao Vivo'}}, {'added_at': '2023-06-23T00:17:29Z', 'track': {'artists': [{'name': 'Ícaro e Gilmar'}, {'name': 'Eduardo Costa'}], 'duration_ms': 203736, 'name': 'A Viola e Eu - Ao Vivo'}}, {'added_at': '2022-11-30T16:32:53Z', 'track': {'artists': [{'name': 'Matheus & Kauan'}, {'name': 'Jorge & Mateus'}], 'duration_ms': 183694, 'name': 'Pactos - Ao Vivo'}}, {'added_at': '2023-07-17T00:40:43Z', 'track': {'artists': [{'name': 'Gusttavo Lima'}, {'name': 'Matheus & Kauan'}], 'duration_ms': 153237, 'name': 'Mala dos Porta-Mala - Ao Vivo'}}, {'added_at': '2023-09-10T22:08:37Z', 'track': {'artists': [{'name': 'Débora e Gerúsia'}], 'duration_ms': 185339, 'name': 'Valeu a Pena'}}, {'added_at': '2023-05-12T00:57:42Z', 'track': {'artists': [{'name': 'Hugo & Guilherme'}], 'duration_ms': 191496, 'name': 'Nem Que Seja Chorando - Ao Vivo'}}, {'added_at': '2023-05-13T20:57:52Z', 'track': {'artists': [{'name': 'Guilherme & Benuto'}, {'name': 'Simone Mendes'}], 'duration_ms': 166490, 'name': 'Manda um Oi - Ao Vivo'}}, {'added_at': '2023-07-13T17:15:11Z', 'track': {'artists': [{'name': 'Michel Teló'}, {'name': 'Mari Fernandez'}], 'duration_ms': 147533, 'name': 'Meu Vício - Ao Vivo'}}, {'added_at': '2023-07-03T22:04:45Z', 'track': {'artists': [{'name': 'Zé Neto & Cristiano'}], 'duration_ms': 133546, 'name': 'Barulho Do Foguete - Ao Vivo'}}, {'added_at': '2023-06-05T03:14:03Z', 'track': {'artists': [{'name': 'Israel & Rodolffo'}, {'name': 'Mari Fernandez'}], 'duration_ms': 168840, 'name': 'Seu Brilho Sumiu - Ao Vivo'}}, {'added_at': '2023-03-13T02:59:41Z', 'track': {'artists': [{'name': 'Humberto & Ronaldo'}], 'duration_ms': 177616, 'name': 'A uma Ex Atrás - Ao Vivo'}}, {'added_at': '2023-06-17T01:10:48Z', 'track': {'artists': [{'name': 'João Neto & Frederico'}, {'name': 'Murilo Huff'}], 'duration_ms': 194203, 'name': 'Porque Eu Presto - Ao Vivo'}}, {'added_at': '2023-09-08T17:03:17Z', 'track': {'artists': [{'name': 'Victor Borges & Vinicius'}], 'duration_ms': 192500, 'name': 'Jardim Errado'}}, {'added_at': '2023-02-09T18:53:34Z', 'track': {'artists': [{'name': 'AgroPlay'}, {'name': 'Ana Castela'}], 'duration_ms': 173698, 'name': 'Nosso Quadro'}}, {'added_at': '2023-02-15T12:42:41Z', 'track': {'artists': [{'name': 'Jorge & Mateus'}], 'duration_ms': 304883, 'name': 'O Que É Que Eu Faço / Pior É Te Perder / Tá Escrito Em Meu Olhar - Ao Vivo'}}, {'added_at': '2023-08-09T16:25:22Z', 'track': {'artists': [{'name': 'Gean Toddy'}, {'name': 'MC Rica'}], 'duration_ms': 119166, 'name': 'Vem Morenin'}}, {'added_at': '2023-04-13T17:15:18Z', 'track': {'artists': [{'name': 'João Lucas & Diogo'}, {'name': 'Pedro Paulo & Alex'}], 'duration_ms': 153889, 'name': 'O Tanque Bebe - Ao Vivo'}}, {'added_at': '2023-01-28T14:13:17Z', 'track': {'artists': [{'name': 'Fred & Fabrício'}, {'name': 'Hugo & Guilherme'}], 'duration_ms': 180844, 'name': 'Guarda Roupa - Ao Vivo'}}, {'added_at': '2023-08-04T22:20:25Z', 'track': {'artists': [{'name': 'Gean Toddy'}], 'duration_ms': 153019, 'name': 'Pra Vaquejada Eu Vou'}}, {'added_at': '2023-04-29T22:19:02Z', 'track': {'artists': [{'name': 'Lauana Prado'}, {'name': 'Guilherme & Benuto'}], 'duration_ms': 143372, 'name': 'Desandei - Ao Vivo'}}, {'added_at': '2023-03-13T02:39:46Z', 'track': {'artists': [{'name': 'Zé Neto & Cristiano'}], 'duration_ms': 159158, 'name': 'Oi Balde - Ao Vivo'}}, {'added_at': '2023-07-04T01:04:17Z', 'track': {'artists': [{'name': 'Luan Santana'}], 'duration_ms': 175468, 'name': 'MEIO TERMO - Ao Vivo'}}, {'added_at': '2023-01-13T08:20:01Z', 'track': {'artists': [{'name': 'Naiara Azevedo'}, {'name': 'Ana Castela'}], 'duration_ms': 170191, 'name': 'Palhaça - Ao Vivo'}}, {'added_at': '2023-07-11T02:25:30Z', 'track': {'artists': [{'name': 'Fiduma & Jeca'}, {'name': 'Jads & Jadson'}], 'duration_ms': 165443, 'name': 'Só Vai Ter Chapéu - Ao Vivo'}}, {'added_at': '2023-07-18T00:22:53Z', 'track': {'artists': [{'name': 'Matheus Fernandes'}, {'name': 'Luan Santana'}], 'duration_ms': 171850, 'name': 'Duas Camas - Ao Vivo'}}, {'added_at': '2023-03-03T19:49:00Z', 'track': {'artists': [{'name': 'Hugo & Guilherme'}], 'duration_ms': 160836, 'name': 'Metade De Mim - Ao Vivo'}}, {'added_at': '2023-01-21T01:38:17Z', 'track': {'artists': [{'name': 'Israel & Rodolffo'}, {'name': 'Jorge & Mateus'}], 'duration_ms': 163120, 'name': 'Perdoou Nada - Ao Vivo'}}, {'added_at': '2023-02-02T19:46:09Z', 'track': {'artists': [{'name': 'Simone Mendes'}], 'duration_ms': 178811, 'name': 'Erro Gostoso - Ao Vivo'}}, {'added_at': '2023-03-13T03:04:33Z', 'track': {'artists': [{'name': 'Gabriel Gava'}], 'duration_ms': 237183, 'name': 'E pra Sempre Te Amar / Cuida Bem Dela - Ao Vivo'}}, {'added_at': '2023-06-05T03:03:36Z', 'track': {'artists': [{'name': 'Ícaro e Gilmar'}], 'duration_ms': 324252, 'name': 'Quando Você Some / Não Precisa / Vou Te Amar (Cigana) - Ao Vivo'}}, {'added_at': '2023-05-12T22:40:21Z', 'track': {'artists': [{'name': 'Marília Mendonça'}], 'duration_ms': 161076, 'name': 'Cumbia Do Amor'}}, {'added_at': '2023-06-05T04:05:57Z', 'track': {'artists': [{'name': 'Bruno & Rafa'}], 'duration_ms': 160334, 'name': 'Solteiro por Opção - Ao Vivo'}}, {'added_at': '2023-09-11T04:48:55Z', 'track': {'artists': [{'name': 'Luan Santana'}], 'duration_ms': 174317, 'name': 'DEUS É MUITO BOM - Ao Vivo'}}, {'added_at': '2023-07-17T00:39:12Z', 'track': {'artists': [{'name': 'Traia Véia'}, {'name': 'Murilo Huff'}], 'duration_ms': 134932, 'name': 'Eu Não Previ - Ao Vivo em Goiânia'}}, {'added_at': '2023-02-04T02:47:06Z', 'track': {'artists': [{'name': 'Henrique & Juliano'}], 'duration_ms': 172005, 'name': 'Traumatizei - Ao Vivo Em Brasília'}}, {'added_at': '2021-10-26T16:59:37Z', 'track': {'artists': [{'name': 'Ícaro e Gilmar'}, {'name': 'Humberto & Ronaldo'}], 'duration_ms': 212393, 'name': 'E Deixe o Tempo Ver / Chega Mais Pra Cá (Ao Vivo)'}}, {'added_at': '2023-02-04T02:47:32Z', 'track': {'artists': [{'name': 'Matheus & Kauan'}, {'name': 'Mari Fernandez'}], 'duration_ms': 169835, 'name': 'Não Vitalício (Nunca Mais) - Ao Vivo'}}, {'added_at': '2023-04-27T20:36:58Z', 'track': {'artists': [{'name': 'Bartô e Regim'}], 'duration_ms': 163112, 'name': 'Cinismo'}}, {'added_at': '2022-11-11T01:54:59Z', 'track': {'artists': [{'name': 'Clayton & Romário'}], 'duration_ms': 166015, 'name': 'O Grau Bateu - Ao Vivo'}}, {'added_at': '2022-06-24T20:42:11Z', 'track': {'artists': [{'name': 'Guilherme & Benuto'}, {'name': 'Hugo & Guilherme'}], 'duration_ms': 173366, 'name': 'Haja Colírio (feat. Hugo & Guilherme) - Ao Vivo'}}, {'added_at': '2020-09-11T11:58:57Z', 'track': {'artists': [{'name': 'Humberto & Ronaldo'}], 'duration_ms': 172311, 'name': 'X-Tudo'}}, {'added_at': '2023-09-11T04:41:24Z', 'track': {'artists': [{'name': 'Grupo Menos É Mais'}, {'name': 'Matheus Fernandes'}], 'duration_ms': 159322, 'name': 'Lapada Dela - Ao Vivo'}}, {'added_at': '2021-01-01T04:46:35Z', 'track': {'artists': [{'name': 'Rayane & Rafaela'}, {'name': 'Zé Neto & Cristiano'}], 'duration_ms': 166938, 'name': 'Beijo Meia Boca'}}, {'added_at': '2022-09-23T12:48:42Z', 'track': {'artists': [{'name': 'Ícaro e Gilmar'}], 'duration_ms': 198338, 'name': 'M de Mulher - Ao Vivo'}}, {'added_at': '2022-11-05T18:24:11Z', 'track': {'artists': [{'name': 'Hugo & Guilherme'}], 'duration_ms': 183642, 'name': 'Eu Não Sei Beber Só Uma - Ao Vivo'}}, {'added_at': '2019-04-25T05:22:21Z', 'track': {'artists': [{'name': 'Jorge & Mateus'}], 'duration_ms': 188426, 'name': 'Preocupa Não - Ao Vivo'}}, {'added_at': '2020-09-29T00:02:16Z', 'track': {'artists': [{'name': 'Guilherme & Benuto'}], 'duration_ms': 141059, 'name': 'Cheiro de Saudade - Ao Vivo'}}, {'added_at': '2019-10-16T11:20:23Z', 'track': {'artists': [{'name': 'João Gustavo e Murilo'}, {'name': 'Analaga'}], 'duration_ms': 171130, 'name': 'Viciar em mim (feat. Analaga) - Ao vivo'}}, {'added_at': '2021-03-09T16:20:00Z', 'track': {'artists': [{'name': 'Luan Santana'}], 'duration_ms': 178076, 'name': 'Foi Covardia'}}, {'added_at': '2020-12-26T02:16:31Z', 'track': {'artists': [{'name': 'Ícaro e Gilmar'}, {'name': 'Hugo & Guilherme'}], 'duration_ms': 185621, 'name': 'Tira um Tempo Pra Ela - Ao Vivo'}}, {'added_at': '2020-09-11T11:59:01Z', 'track': {'artists': [{'name': 'Marcos & Belutti'}, {'name': 'Jorge & Mateus'}], 'duration_ms': 183013, 'name': 'Tudo Indica (feat. Jorge & Mateus) - Ao Vivo'}}, {'added_at': '2020-09-03T01:48:35Z', 'track': {'artists': [{'name': 'Ícaro e Gilmar'}], 'duration_ms': 155038, 'name': 'Língua do Beijo - Ao Vivo'}}, {'added_at': '2023-01-06T00:47:48Z', 'track': {'artists': [{'name': 'Fred & Fabrício'}], 'duration_ms': 175493, 'name': 'Pagando Os Pecados - Ao Vivo'}}, {'added_at': '2022-12-16T19:30:47Z', 'track': {'artists': [{'name': 'Ícaro e Gilmar'}], 'duration_ms': 167267, 'name': 'Dedicado Pra Esquecer - Ao Vivo'}}, {'added_at': '2019-10-20T17:25:40Z', 'track': {'artists': [{'name': 'João Gustavo e Murilo'}, {'name': 'Analaga'}, {'name': 'Atitude 67'}], 'duration_ms': 163252, 'name': 'Qual É a do Amor'}}, {'added_at': '2022-11-01T20:22:45Z', 'track': {'artists': [{'name': 'Bruno & Rafa'}, {'name': 'Ícaro e Gilmar'}], 'duration_ms': 152981, 'name': 'Na Raça - Ao Vivo'}}, {'added_at': '2019-05-15T05:41:03Z', 'track': {'artists': [{'name': 'Chitãozinho & Xororó'}], 'duration_ms': 149160, 'name': '60 Dias Apaixonado / Sorriso Mudo - Ao Vivo'}}, {'added_at': '2019-07-25T12:30:53Z', 'track': {'artists': [{'name': 'Marco Antonio & Gabriel'}, {'name': 'Bruninho & Davi'}], 'duration_ms': 149573, 'name': 'Resolva a Vida (Ao Vivo)'}}, {'added_at': '2019-09-07T12:19:43Z', 'track': {'artists': [{'name': 'Matheus Neves & Renato'}, {'name': 'Fred & Gustavo'}], 'duration_ms': 138307, 'name': 'Prêmio de Consolação'}}, {'added_at': '2019-10-13T19:42:39Z', 'track': {'artists': [{'name': 'Villa Baggage'}], 'duration_ms': 238598, 'name': 'Mudei (Ao Vivo)'}}, {'added_at': '2019-10-26T18:36:00Z', 'track': {'artists': [{'name': 'Gustavo Moura & Rafael'}, {'name': 'Marília Mendonça'}], 'duration_ms': 211775, 'name': 'Vou Levando a Minha - Ao Vivo'}}, {'added_at': '2019-11-01T04:35:51Z', 'track': {'artists': [{'name': 'Vou pro Sereno'}, {'name': 'LUDMILLA'}], 'duration_ms': 182860, 'name': 'Teu Segredo - Ao Vivo'}}, {'added_at': '2019-12-28T01:57:35Z', 'track': {'artists': [{'name': 'João Fernando & Gabriel'}], 'duration_ms': 161124, 'name': 'Cê Não Tem Coragem Não (Ao Vivo)'}}, {'added_at': '2019-12-11T16:11:05Z', 'track': {'artists': [{'name': 'Jorge & Mateus'}], 'duration_ms': 222826, 'name': 'O Amor Não É Paixão - Ao Vivo'}}, {'added_at': '2020-02-06T18:56:51Z', 'track': {'artists': [{'name': 'Henrique & Juliano'}], 'duration_ms': 202724, 'name': 'Sem Rede - Ao Vivo'}}, {'added_at': '2020-02-12T15:42:44Z', 'track': {'artists': [{'name': 'Ivan & Alexandre'}], 'duration_ms': 212266, 'name': 'Intimidade a Dois - Ao Vivo'}}, {'added_at': '2020-03-04T04:19:34Z', 'track': {'artists': [{'name': 'Ícaro e Gilmar'}, {'name': 'Humberto & Ronaldo'}], 'duration_ms': 175818, 'name': 'Ex É Tudo Igual - Ao Vivo'}}, {'added_at': '2020-05-21T11:08:11Z', 'track': {'artists': [{'name': 'Gabriel Diniz'}, {'name': 'Forró Na Farra'}], 'duration_ms': 239595, 'name': 'Tá Online Tá Solteira'}}, {'added_at': '2020-07-11T13:50:52Z', 'track': {'artists': [{'name': 'Zé Neto & Cristiano'}], 'duration_ms': 157479, 'name': 'Interesses Diferentes - Ao Vivo'}}, {'added_at': '2023-08-11T15:13:43Z', 'track': {'artists': [{'name': 'Túlio Guimarães'}, {'name': 'Netto & Henrique'}], 'duration_ms': 175952, 'name': 'Iludidasso'}}, {'added_at': '2021-01-29T05:48:43Z', 'track': {'artists': [{'name': 'Guilherme & Benuto'}], 'duration_ms': 166664, 'name': 'Vulnerável - Ao Vivo'}}, {'added_at': '2021-02-18T19:32:09Z', 'track': {'artists': [{'name': 'Hugo & Guilherme'}], 'duration_ms': 370232, 'name': 'Pot-Pourri: Pretexto / Imagina / Conveniência'}}, {'added_at': '2021-03-28T23:29:47Z', 'track': {'artists': [{'name': 'Ciro Netto e Manuel'}, {'name': 'Guilherme & Benuto'}], 'duration_ms': 146511, 'name': 'Da Cama Pro Coração'}}, {'added_at': '2021-05-01T12:30:33Z', 'track': {'artists': [{'name': 'Guilherme & Benuto'}], 'duration_ms': 174378, 'name': 'Me Desligando de Você - Ao Vivo'}}, {'added_at': '2021-05-11T03:20:23Z', 'track': {'artists': [{'name': 'Gusttavo Lima'}], 'duration_ms': 239000, 'name': 'Cidade Acordada - Ao Vivo'}}, {'added_at': '2021-08-21T23:54:22Z', 'track': {'artists': [{'name': 'João Gustavo e Murilo'}], 'duration_ms': 220928, 'name': 'Lúcido e Louco'}}, {'added_at': '2021-09-28T21:56:50Z', 'track': {'artists': [{'name': 'Wesley Safadão'}], 'duration_ms': 158960, 'name': 'Juras de Amor (Vai Chorar) - Ao Vivo'}}, {'added_at': '2021-09-28T22:05:16Z', 'track': {'artists': [{'name': 'Diego & Victor Hugo'}], 'duration_ms': 188671, 'name': 'Desbloqueado - Ao Vivo'}}, {'added_at': '2021-10-05T18:50:46Z', 'track': {'artists': [{'name': 'Lauana Prado'}, {'name': 'Fernando Zor'}], 'duration_ms': 204881, 'name': 'Passarinho Que Voa - Ao Vivo'}}, {'added_at': '2023-06-05T03:57:33Z', 'track': {'artists': [{'name': 'Gabriel Diniz'}], 'duration_ms': 228929, 'name': 'Impossível Te Odiar - Ao Vivo'}}, {'added_at': '2021-10-09T01:43:23Z', 'track': {'artists': [{'name': 'Lucas Reis & Thácio'}], 'duration_ms': 206329, 'name': 'Se É Pra Chorar Eu Choro - Ao Vivo'}}, {'added_at': '2021-10-29T13:50:28Z', 'track': {'artists': [{'name': 'Rayane & Rafaela'}], 'duration_ms': 176895, 'name': 'Pancada de Choro - Ao Vivo'}}, {'added_at': '2021-11-07T23:01:54Z', 'track': {'artists': [{'name': 'Fred Liel'}], 'duration_ms': 183364, 'name': 'Crença ou Religião (Acústico) - Ao Vivo'}}, {'added_at': '2023-06-05T04:01:41Z', 'track': {'artists': [{'name': 'Luan Santana'}, {'name': 'Luísa Sonza'}], 'duration_ms': 209928, 'name': 'CORAÇÃO CIGANO - Ao Vivo'}}]}\n"
     ]
    }
   ],
   "source": [
    "\n",
    "\n",
    "#print(search_for_anything(token, \"Gusttavo Lima\", type=\"artist\"))\n",
    "#\n",
    "print(search_for_anything(token, \"Radio Birita\", type=\"playlist\"))\n",
    "#\n",
    "#print(search_for_anything(token, \"Joen Rogan\", type=\"artist\"))\n",
    "#\n",
    "#print(search_for_anything(token, \"David Goggings\", type=\"episode\"))\n",
    "\n",
    "#print(search_for_anything(token, \"The Joe Rogan Experience\", type=\"playlist\"))\n",
    "\n",
    "print(list_playlist(token, \"16FFBX4MVut2qVV4SnTpZr\"))\n"
   ]
  },
  {
   "cell_type": "code",
   "execution_count": 114,
   "metadata": {},
   "outputs": [
    {
     "data": {
      "text/plain": [
       "dict"
      ]
     },
     "execution_count": 114,
     "metadata": {},
     "output_type": "execute_result"
    }
   ],
   "source": [
    "playlist = search_for_anything(token, \"Radio Birita\", type=\"playlist\")\n",
    "id_playlist = playlist['playlists']['items'][0]['id']\n",
    "\n",
    "songs = list_playlist(token, id_playlist)\n",
    "type(songs)\n"
   ]
  },
  {
   "cell_type": "code",
   "execution_count": 118,
   "metadata": {},
   "outputs": [
    {
     "data": {
      "text/html": [
       "<div>\n",
       "<style scoped>\n",
       "    .dataframe tbody tr th:only-of-type {\n",
       "        vertical-align: middle;\n",
       "    }\n",
       "\n",
       "    .dataframe tbody tr th {\n",
       "        vertical-align: top;\n",
       "    }\n",
       "\n",
       "    .dataframe thead th {\n",
       "        text-align: right;\n",
       "    }\n",
       "</style>\n",
       "<table border=\"1\" class=\"dataframe\">\n",
       "  <thead>\n",
       "    <tr style=\"text-align: right;\">\n",
       "      <th></th>\n",
       "      <th>added_at</th>\n",
       "      <th>track</th>\n",
       "    </tr>\n",
       "  </thead>\n",
       "  <tbody>\n",
       "    <tr>\n",
       "      <th>0</th>\n",
       "      <td>2023-08-18T17:35:59Z</td>\n",
       "      <td>{'artists': [{'name': 'Ícaro e Gilmar'}, {'nam...</td>\n",
       "    </tr>\n",
       "    <tr>\n",
       "      <th>1</th>\n",
       "      <td>2023-08-18T17:21:57Z</td>\n",
       "      <td>{'artists': [{'name': 'Bruno &amp; Rafa'}, {'name'...</td>\n",
       "    </tr>\n",
       "    <tr>\n",
       "      <th>2</th>\n",
       "      <td>2023-09-11T04:32:40Z</td>\n",
       "      <td>{'artists': [{'name': 'Gusttavo Lima'}, {'name...</td>\n",
       "    </tr>\n",
       "    <tr>\n",
       "      <th>3</th>\n",
       "      <td>2023-06-24T16:47:45Z</td>\n",
       "      <td>{'artists': [{'name': 'Humberto &amp; Ronaldo'}], ...</td>\n",
       "    </tr>\n",
       "    <tr>\n",
       "      <th>4</th>\n",
       "      <td>2023-09-11T04:36:34Z</td>\n",
       "      <td>{'artists': [{'name': 'Fernando &amp; Sorocaba'}, ...</td>\n",
       "    </tr>\n",
       "  </tbody>\n",
       "</table>\n",
       "</div>"
      ],
      "text/plain": [
       "               added_at                                              track\n",
       "0  2023-08-18T17:35:59Z  {'artists': [{'name': 'Ícaro e Gilmar'}, {'nam...\n",
       "1  2023-08-18T17:21:57Z  {'artists': [{'name': 'Bruno & Rafa'}, {'name'...\n",
       "2  2023-09-11T04:32:40Z  {'artists': [{'name': 'Gusttavo Lima'}, {'name...\n",
       "3  2023-06-24T16:47:45Z  {'artists': [{'name': 'Humberto & Ronaldo'}], ...\n",
       "4  2023-09-11T04:36:34Z  {'artists': [{'name': 'Fernando & Sorocaba'}, ..."
      ]
     },
     "execution_count": 118,
     "metadata": {},
     "output_type": "execute_result"
    }
   ],
   "source": []
  }
 ],
 "metadata": {
  "kernelspec": {
   "display_name": ".venv",
   "language": "python",
   "name": "python3"
  },
  "language_info": {
   "codemirror_mode": {
    "name": "ipython",
    "version": 3
   },
   "file_extension": ".py",
   "mimetype": "text/x-python",
   "name": "python",
   "nbconvert_exporter": "python",
   "pygments_lexer": "ipython3",
   "version": "3.11.5"
  },
  "orig_nbformat": 4
 },
 "nbformat": 4,
 "nbformat_minor": 2
}
