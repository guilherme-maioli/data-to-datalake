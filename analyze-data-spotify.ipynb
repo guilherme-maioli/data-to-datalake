{
 "cells": [
  {
   "cell_type": "code",
   "execution_count": 1,
   "metadata": {},
   "outputs": [
    {
     "data": {
      "text/plain": [
       "True"
      ]
     },
     "execution_count": 1,
     "metadata": {},
     "output_type": "execute_result"
    }
   ],
   "source": [
    "from requests import post, get\n",
    "import base64\n",
    "import urllib\n",
    "import pandas as pd \n",
    "from dotenv import load_dotenv\n",
    "import os\n",
    "load_dotenv()"
   ]
  },
  {
   "cell_type": "code",
   "execution_count": 2,
   "metadata": {},
   "outputs": [],
   "source": [
    "client_id = os.environ[\"CLIENT_ID_SPOTIFY\"]  \n",
    "\n",
    "client_secret = os.environ[\"CLIENT_SECRET_SPOTIFY\"] \n",
    "\n",
    "url = \"https://accounts.spotify.com/api/token\"\n"
   ]
  },
  {
   "cell_type": "code",
   "execution_count": 3,
   "metadata": {},
   "outputs": [],
   "source": [
    "def get_token():\n",
    "    auth_string = client_id + \":\" + client_secret\n",
    "    auth_bytes = auth_string.encode(\"utf-8\")\n",
    "    auth_base64 = str(base64.b64encode(auth_bytes), \"utf-8\")\n",
    "\n",
    "    url = \"https://accounts.spotify.com/api/token\"\n",
    "    headers = {\n",
    "        \"Authorization\": \"Basic \" + auth_base64,\n",
    "    }\n",
    "\n",
    "    data = {\n",
    "            \"grant_type\": \"client_credentials\"\n",
    "            }\n",
    "\n",
    "    result = post(url, headers=headers, data=data)\n",
    "\n",
    "    return result.json()[\"access_token\"]"
   ]
  },
  {
   "cell_type": "code",
   "execution_count": 4,
   "metadata": {},
   "outputs": [],
   "source": [
    "def get_auth_header(token):\n",
    "    return {\"Authorization\": \"Bearer \" + token}"
   ]
  },
  {
   "cell_type": "code",
   "execution_count": 5,
   "metadata": {},
   "outputs": [],
   "source": [
    "def search_for_anything(token, artist_name, type):\n",
    "    url = \"https://api.spotify.com/v1/search\"\n",
    "    headers = get_auth_header(token)\n",
    "    query = f\"q={artist_name}&type={type}&limit=1\"\n",
    "\n",
    "    query_url = url + \"?\" + query \n",
    "    \n",
    "    result = get(query_url, headers=headers)\n",
    "    \n",
    "    return result.json()\n"
   ]
  },
  {
   "cell_type": "code",
   "execution_count": 6,
   "metadata": {},
   "outputs": [],
   "source": [
    "def list_playlist(token, playlist_id, limit=100, offset=0):\n",
    "    url = f'https://api.spotify.com/v1/playlists/{playlist_id}/tracks'\n",
    "    \n",
    "    filter = \"items(added_at,track(id, name, artists(name), popularity, duration_ms))\"\n",
    "    filter = urllib.parse.quote_plus(filter)\n",
    "    filter = \"fields=\"+filter\n",
    "    filter = filter + f\"&limit={limit}&offset={offset}\"\n",
    "\n",
    "    url = url + '?' + filter\n",
    "    headers = get_auth_header(token)\n",
    "    \n",
    "    result = get(url, headers=headers)\n",
    "\n",
    "    return result.json()"
   ]
  },
  {
   "cell_type": "code",
   "execution_count": 7,
   "metadata": {},
   "outputs": [],
   "source": [
    "def get_total_music_playlist(token, id_playlist):\n",
    "    url = f'https://api.spotify.com/v1/playlists/{id_playlist}?fields=tracks.total'\n",
    "    headers = get_auth_header(token)\n",
    "    result = get(url,headers=headers)\n",
    "\n",
    "    return int(result.json()['tracks']['total'])\n",
    "\n"
   ]
  },
  {
   "cell_type": "code",
   "execution_count": 8,
   "metadata": {},
   "outputs": [],
   "source": [
    "token = get_token()"
   ]
  },
  {
   "cell_type": "code",
   "execution_count": 9,
   "metadata": {},
   "outputs": [],
   "source": [
    "def insert_musics_in_df(df, songs):\n",
    "    for song in songs['items']:\n",
    "        new_row = { \"id_track\":     song['track']['id'], \n",
    "                    \"name\":         song['track']['name'],\n",
    "                    \"added_at\":     song['added_at'],\n",
    "                    \"artists\":      ' - '.join([thing['name'] for thing in song['track']['artists']]),\n",
    "                    \"duration_ms\":  song['track']['duration_ms'],\n",
    "                    \"popularity\":   song['track']['popularity'],\n",
    "                }\n",
    "\n",
    "        df = pd.concat([df, pd.DataFrame([new_row])], ignore_index=True)\n",
    "    \n",
    "    return df\n"
   ]
  },
  {
   "cell_type": "code",
   "execution_count": 10,
   "metadata": {},
   "outputs": [
    {
     "name": "stdout",
     "output_type": "stream",
     "text": [
      "16FFBX4MVut2qVV4SnTpZr\n"
     ]
    }
   ],
   "source": [
    "df = pd.DataFrame(columns=[\"id_track\", \"name\", \"added_at\", \"artists\", \"duration_ms\", \"popularity\" ])\n",
    "\n",
    "playlist = search_for_anything(token, \"Radio Birita\", type=\"playlist\")\n",
    "id_playlist = playlist['playlists']['items'][0]['id']\n",
    "print(id_playlist)\n"
   ]
  },
  {
   "cell_type": "code",
   "execution_count": 12,
   "metadata": {},
   "outputs": [],
   "source": [
    "df = pd.DataFrame(columns=[\"id_track\", \"name\", \"added_at\", \"artists\", \"duration_ms\", \"popularity\" ])\n",
    "\n",
    "total_musica_playlist = get_total_music_playlist(token, id_playlist)\n",
    "\n",
    "offset = 0\n",
    "limit = 50\n",
    "while offset < total_musica_playlist:\n",
    "    songs = list_playlist(token, id_playlist, limit=limit, offset=offset)\n",
    "    df = insert_musics_in_df(df, songs)\n",
    "\n",
    "    offset+=50\n"
   ]
  },
  {
   "cell_type": "code",
   "execution_count": 14,
   "metadata": {},
   "outputs": [],
   "source": [
    "df['added_at'] =  pd.to_datetime(df['added_at'])"
   ]
  },
  {
   "cell_type": "code",
   "execution_count": 18,
   "metadata": {},
   "outputs": [],
   "source": [
    "df = df.sort_values(by=[\"added_at\", \"popularity\"],ascending=False).reset_index(drop=True)"
   ]
  },
  {
   "cell_type": "code",
   "execution_count": 19,
   "metadata": {},
   "outputs": [
    {
     "data": {
      "text/html": [
       "<div>\n",
       "<style scoped>\n",
       "    .dataframe tbody tr th:only-of-type {\n",
       "        vertical-align: middle;\n",
       "    }\n",
       "\n",
       "    .dataframe tbody tr th {\n",
       "        vertical-align: top;\n",
       "    }\n",
       "\n",
       "    .dataframe thead th {\n",
       "        text-align: right;\n",
       "    }\n",
       "</style>\n",
       "<table border=\"1\" class=\"dataframe\">\n",
       "  <thead>\n",
       "    <tr style=\"text-align: right;\">\n",
       "      <th></th>\n",
       "      <th>id_track</th>\n",
       "      <th>name</th>\n",
       "      <th>added_at</th>\n",
       "      <th>artists</th>\n",
       "      <th>duration_ms</th>\n",
       "      <th>popularity</th>\n",
       "    </tr>\n",
       "  </thead>\n",
       "  <tbody>\n",
       "    <tr>\n",
       "      <th>0</th>\n",
       "      <td>5fedkyJoFEIi6g7mPoOKdb</td>\n",
       "      <td>Apaixonadin</td>\n",
       "      <td>2023-09-15 16:57:40+00:00</td>\n",
       "      <td>Fernando Ciskinho Jr - João Bosco &amp; Gabriel</td>\n",
       "      <td>130500</td>\n",
       "      <td>37</td>\n",
       "    </tr>\n",
       "    <tr>\n",
       "      <th>1</th>\n",
       "      <td>3QSsyYKRb8h768WoqZjfLo</td>\n",
       "      <td>Amor Demais / Saudade Dela - Ao Vivo</td>\n",
       "      <td>2023-09-15 04:51:42+00:00</td>\n",
       "      <td>Diego &amp; Arnaldo</td>\n",
       "      <td>209534</td>\n",
       "      <td>23</td>\n",
       "    </tr>\n",
       "    <tr>\n",
       "      <th>2</th>\n",
       "      <td>4JUH9qIVVBUPWFm7PHhvIj</td>\n",
       "      <td>Me Libera / Pra Te Esquecer</td>\n",
       "      <td>2023-09-15 04:47:09+00:00</td>\n",
       "      <td>Day e Lara</td>\n",
       "      <td>217332</td>\n",
       "      <td>35</td>\n",
       "    </tr>\n",
       "    <tr>\n",
       "      <th>3</th>\n",
       "      <td>7ALwfzf8cq1lNeeAWefnTS</td>\n",
       "      <td>Parece Mas Não É - Ao Vivo</td>\n",
       "      <td>2023-09-11 06:13:49+00:00</td>\n",
       "      <td>Ícaro e Gilmar</td>\n",
       "      <td>145954</td>\n",
       "      <td>39</td>\n",
       "    </tr>\n",
       "    <tr>\n",
       "      <th>4</th>\n",
       "      <td>2yIJ2CVZkTDftAsL9NPTw2</td>\n",
       "      <td>Milionário - Ao Vivo</td>\n",
       "      <td>2023-09-11 05:04:56+00:00</td>\n",
       "      <td>Guilherme &amp; Benuto - Wesley Safadão</td>\n",
       "      <td>154698</td>\n",
       "      <td>71</td>\n",
       "    </tr>\n",
       "    <tr>\n",
       "      <th>...</th>\n",
       "      <td>...</td>\n",
       "      <td>...</td>\n",
       "      <td>...</td>\n",
       "      <td>...</td>\n",
       "      <td>...</td>\n",
       "      <td>...</td>\n",
       "    </tr>\n",
       "    <tr>\n",
       "      <th>160</th>\n",
       "      <td>4nGDCINqy4PwlPDJWdDFHC</td>\n",
       "      <td>Mudei (Ao Vivo)</td>\n",
       "      <td>2019-10-13 19:42:39+00:00</td>\n",
       "      <td>Villa Baggage</td>\n",
       "      <td>238598</td>\n",
       "      <td>30</td>\n",
       "    </tr>\n",
       "    <tr>\n",
       "      <th>161</th>\n",
       "      <td>6MQ7uenz2WKPKVoWdeEvwE</td>\n",
       "      <td>Prêmio de Consolação</td>\n",
       "      <td>2019-09-07 12:19:43+00:00</td>\n",
       "      <td>Matheus Neves &amp; Renato - Fred &amp; Gustavo</td>\n",
       "      <td>138307</td>\n",
       "      <td>21</td>\n",
       "    </tr>\n",
       "    <tr>\n",
       "      <th>162</th>\n",
       "      <td>1AUsF1MvGLwYHDG8bqCLTh</td>\n",
       "      <td>Resolva a Vida (Ao Vivo)</td>\n",
       "      <td>2019-07-25 12:30:53+00:00</td>\n",
       "      <td>Marco Antonio &amp; Gabriel - Bruninho &amp; Davi</td>\n",
       "      <td>149573</td>\n",
       "      <td>0</td>\n",
       "    </tr>\n",
       "    <tr>\n",
       "      <th>163</th>\n",
       "      <td>7FXkdDfzPYZaEBhOA4H4L0</td>\n",
       "      <td>60 Dias Apaixonado / Sorriso Mudo - Ao Vivo</td>\n",
       "      <td>2019-05-15 05:41:03+00:00</td>\n",
       "      <td>Chitãozinho &amp; Xororó</td>\n",
       "      <td>149160</td>\n",
       "      <td>18</td>\n",
       "    </tr>\n",
       "    <tr>\n",
       "      <th>164</th>\n",
       "      <td>7CsljtTpvJgqrmlUJOfbF1</td>\n",
       "      <td>Preocupa Não - Ao Vivo</td>\n",
       "      <td>2019-04-25 05:22:21+00:00</td>\n",
       "      <td>Jorge &amp; Mateus</td>\n",
       "      <td>188426</td>\n",
       "      <td>45</td>\n",
       "    </tr>\n",
       "  </tbody>\n",
       "</table>\n",
       "<p>165 rows × 6 columns</p>\n",
       "</div>"
      ],
      "text/plain": [
       "                   id_track                                         name  \\\n",
       "0    5fedkyJoFEIi6g7mPoOKdb                                  Apaixonadin   \n",
       "1    3QSsyYKRb8h768WoqZjfLo         Amor Demais / Saudade Dela - Ao Vivo   \n",
       "2    4JUH9qIVVBUPWFm7PHhvIj                  Me Libera / Pra Te Esquecer   \n",
       "3    7ALwfzf8cq1lNeeAWefnTS                   Parece Mas Não É - Ao Vivo   \n",
       "4    2yIJ2CVZkTDftAsL9NPTw2                         Milionário - Ao Vivo   \n",
       "..                      ...                                          ...   \n",
       "160  4nGDCINqy4PwlPDJWdDFHC                              Mudei (Ao Vivo)   \n",
       "161  6MQ7uenz2WKPKVoWdeEvwE                         Prêmio de Consolação   \n",
       "162  1AUsF1MvGLwYHDG8bqCLTh                     Resolva a Vida (Ao Vivo)   \n",
       "163  7FXkdDfzPYZaEBhOA4H4L0  60 Dias Apaixonado / Sorriso Mudo - Ao Vivo   \n",
       "164  7CsljtTpvJgqrmlUJOfbF1                       Preocupa Não - Ao Vivo   \n",
       "\n",
       "                     added_at                                      artists  \\\n",
       "0   2023-09-15 16:57:40+00:00  Fernando Ciskinho Jr - João Bosco & Gabriel   \n",
       "1   2023-09-15 04:51:42+00:00                              Diego & Arnaldo   \n",
       "2   2023-09-15 04:47:09+00:00                                   Day e Lara   \n",
       "3   2023-09-11 06:13:49+00:00                               Ícaro e Gilmar   \n",
       "4   2023-09-11 05:04:56+00:00          Guilherme & Benuto - Wesley Safadão   \n",
       "..                        ...                                          ...   \n",
       "160 2019-10-13 19:42:39+00:00                                Villa Baggage   \n",
       "161 2019-09-07 12:19:43+00:00      Matheus Neves & Renato - Fred & Gustavo   \n",
       "162 2019-07-25 12:30:53+00:00    Marco Antonio & Gabriel - Bruninho & Davi   \n",
       "163 2019-05-15 05:41:03+00:00                         Chitãozinho & Xororó   \n",
       "164 2019-04-25 05:22:21+00:00                               Jorge & Mateus   \n",
       "\n",
       "    duration_ms popularity  \n",
       "0        130500         37  \n",
       "1        209534         23  \n",
       "2        217332         35  \n",
       "3        145954         39  \n",
       "4        154698         71  \n",
       "..          ...        ...  \n",
       "160      238598         30  \n",
       "161      138307         21  \n",
       "162      149573          0  \n",
       "163      149160         18  \n",
       "164      188426         45  \n",
       "\n",
       "[165 rows x 6 columns]"
      ]
     },
     "execution_count": 19,
     "metadata": {},
     "output_type": "execute_result"
    }
   ],
   "source": [
    "df"
   ]
  }
 ],
 "metadata": {
  "kernelspec": {
   "display_name": ".venv",
   "language": "python",
   "name": "python3"
  },
  "language_info": {
   "codemirror_mode": {
    "name": "ipython",
    "version": 3
   },
   "file_extension": ".py",
   "mimetype": "text/x-python",
   "name": "python",
   "nbconvert_exporter": "python",
   "pygments_lexer": "ipython3",
   "version": "3.11.5"
  },
  "orig_nbformat": 4
 },
 "nbformat": 4,
 "nbformat_minor": 2
}
